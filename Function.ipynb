{
 "cells": [
  {
   "cell_type": "code",
   "execution_count": 19,
   "id": "ffe46f0c",
   "metadata": {},
   "outputs": [],
   "source": [
    "Rahul =[2000,30000,44555,666]\n",
    "Raj =[20000,30000,32222,4333]"
   ]
  },
  {
   "cell_type": "code",
   "execution_count": 20,
   "id": "82549ffa",
   "metadata": {},
   "outputs": [
    {
     "name": "stdout",
     "output_type": "stream",
     "text": [
      "77221\n"
     ]
    }
   ],
   "source": [
    "total_expence=0\n",
    "for i in Rahul:\n",
    "    total_expence =total_expence+i\n",
    "print(total_expence)"
   ]
  },
  {
   "cell_type": "markdown",
   "id": "600ac27f",
   "metadata": {},
   "source": [
    "Function|"
   ]
  },
  {
   "cell_type": "code",
   "execution_count": 24,
   "id": "a7102e46",
   "metadata": {},
   "outputs": [],
   "source": [
    "def expence(name):\n",
    "    \"This Function calculate total person\"\n",
    "    total_expence=0\n",
    "    for i in name:\n",
    "        total_expence+=i\n",
    "        \n",
    "    print(total_expence)"
   ]
  },
  {
   "cell_type": "code",
   "execution_count": 25,
   "id": "e7b4a996",
   "metadata": {},
   "outputs": [
    {
     "name": "stdout",
     "output_type": "stream",
     "text": [
      "77221\n"
     ]
    }
   ],
   "source": [
    "expence(Rahul)"
   ]
  },
  {
   "cell_type": "code",
   "execution_count": 26,
   "id": "474caeb8",
   "metadata": {},
   "outputs": [
    {
     "name": "stdout",
     "output_type": "stream",
     "text": [
      "86555\n"
     ]
    }
   ],
   "source": [
    "expence(Raj)"
   ]
  },
  {
   "cell_type": "code",
   "execution_count": 27,
   "id": "113e5795",
   "metadata": {},
   "outputs": [],
   "source": [
    "def test():\n",
    "    print(\"this is function\")"
   ]
  },
  {
   "cell_type": "code",
   "execution_count": 28,
   "id": "a51e6a65",
   "metadata": {},
   "outputs": [
    {
     "name": "stdout",
     "output_type": "stream",
     "text": [
      "this is function\n"
     ]
    }
   ],
   "source": [
    "test()"
   ]
  },
  {
   "cell_type": "code",
   "execution_count": 29,
   "id": "406c5568",
   "metadata": {},
   "outputs": [],
   "source": [
    "def test1(a,b):\n",
    "    print(\"value of a :\",a)\n",
    "    print(\"value of b :\",b)"
   ]
  },
  {
   "cell_type": "code",
   "execution_count": 32,
   "id": "60190d71",
   "metadata": {},
   "outputs": [
    {
     "name": "stdout",
     "output_type": "stream",
     "text": [
      "value of a : 10\n",
      "value of b : 20\n"
     ]
    }
   ],
   "source": [
    "test1(10,20)"
   ]
  },
  {
   "cell_type": "code",
   "execution_count": 1,
   "id": "e48f022f",
   "metadata": {},
   "outputs": [],
   "source": [
    "def test1(a=10,b=20):\n",
    "    print(\"value of a :\",a)\n",
    "    print(\"value of b :\",b)\n",
    "    "
   ]
  },
  {
   "cell_type": "code",
   "execution_count": 3,
   "id": "22bf131b",
   "metadata": {},
   "outputs": [
    {
     "name": "stdout",
     "output_type": "stream",
     "text": [
      "value of a : 10\n",
      "value of b : 20\n"
     ]
    }
   ],
   "source": [
    "test1(10,20)"
   ]
  },
  {
   "cell_type": "code",
   "execution_count": 1,
   "id": "60646aba",
   "metadata": {},
   "outputs": [],
   "source": [
    "def test(*a):\n",
    "    return a"
   ]
  },
  {
   "cell_type": "code",
   "execution_count": 2,
   "id": "5d584b7b",
   "metadata": {},
   "outputs": [
    {
     "data": {
      "text/plain": [
       "(1, 2, 3, 4, 4, 5, 5)"
      ]
     },
     "execution_count": 2,
     "metadata": {},
     "output_type": "execute_result"
    }
   ],
   "source": [
    "test(1,2,3,4,4,5,5)"
   ]
  },
  {
   "cell_type": "code",
   "execution_count": 5,
   "id": "fa6c0ad7",
   "metadata": {},
   "outputs": [],
   "source": [
    "def append(*a):\n",
    "    l=[]\n",
    "    for i in a:\n",
    "        l.append(i)\n",
    "    return l"
   ]
  },
  {
   "cell_type": "code",
   "execution_count": 6,
   "id": "5e62a1b9",
   "metadata": {},
   "outputs": [
    {
     "data": {
      "text/plain": [
       "[1, 2, 3, 4, 45, 5, 6, 6]"
      ]
     },
     "execution_count": 6,
     "metadata": {},
     "output_type": "execute_result"
    }
   ],
   "source": [
    "append(1,2,3,4,45,5,6,6)"
   ]
  },
  {
   "cell_type": "code",
   "execution_count": 7,
   "id": "6c6172d6",
   "metadata": {},
   "outputs": [
    {
     "data": {
      "text/plain": [
       "[6, 7]"
      ]
     },
     "execution_count": 7,
     "metadata": {},
     "output_type": "execute_result"
    }
   ],
   "source": [
    "append(6,7)"
   ]
  },
  {
   "cell_type": "code",
   "execution_count": 8,
   "id": "3b1971b2",
   "metadata": {},
   "outputs": [],
   "source": [
    "def test2(**info):\n",
    "    return info"
   ]
  },
  {
   "cell_type": "code",
   "execution_count": 9,
   "id": "14ad0d50",
   "metadata": {},
   "outputs": [
    {
     "data": {
      "text/plain": [
       "{'a': 12, 'b': 23}"
      ]
     },
     "execution_count": 9,
     "metadata": {},
     "output_type": "execute_result"
    }
   ],
   "source": [
    "test2(a =12,b=23)"
   ]
  },
  {
   "cell_type": "code",
   "execution_count": 19,
   "id": "66b31842",
   "metadata": {},
   "outputs": [],
   "source": [
    "def test(*a):\n",
    "    l=[]\n",
    "    b=10\n",
    "    for i in a:\n",
    "        if type(i)==int:\n",
    "            final =b+i\n",
    "            l.append(final)\n",
    "    print(\"Final list is :\",l)"
   ]
  },
  {
   "cell_type": "code",
   "execution_count": 20,
   "id": "a0d253b5",
   "metadata": {},
   "outputs": [
    {
     "name": "stdout",
     "output_type": "stream",
     "text": [
      "Final list is : [22, 13, 14, 15, 15]\n"
     ]
    }
   ],
   "source": [
    "test(12,3,4,5,5)"
   ]
  },
  {
   "cell_type": "code",
   "execution_count": 24,
   "id": "545100d2",
   "metadata": {},
   "outputs": [
    {
     "name": "stdout",
     "output_type": "stream",
     "text": [
      "Enter any number :11\n",
      "number is prime\n"
     ]
    },
    {
     "data": {
      "text/plain": [
       "1"
      ]
     },
     "execution_count": 24,
     "metadata": {},
     "output_type": "execute_result"
    }
   ],
   "source": [
    "n =int(input(\"Enter any number :\"))\n",
    "def prime_number(a):\n",
    "    for i in range(2,a):\n",
    "        if a%i==0:\n",
    "            x=0\n",
    "            break\n",
    "        else:\n",
    "            x=1\n",
    "        return x\n",
    "final=prime_number(n)\n",
    "if final==1:\n",
    "    print(\"number is prime\")\n",
    "else:\n",
    "    print(\"number is not prime\")\n",
    "prime_number(n)\n",
    "        "
   ]
  },
  {
   "cell_type": "code",
   "execution_count": null,
   "id": "28091721",
   "metadata": {},
   "outputs": [],
   "source": []
  }
 ],
 "metadata": {
  "kernelspec": {
   "display_name": "Python 3 (ipykernel)",
   "language": "python",
   "name": "python3"
  },
  "language_info": {
   "codemirror_mode": {
    "name": "ipython",
    "version": 3
   },
   "file_extension": ".py",
   "mimetype": "text/x-python",
   "name": "python",
   "nbconvert_exporter": "python",
   "pygments_lexer": "ipython3",
   "version": "3.9.13"
  }
 },
 "nbformat": 4,
 "nbformat_minor": 5
}
